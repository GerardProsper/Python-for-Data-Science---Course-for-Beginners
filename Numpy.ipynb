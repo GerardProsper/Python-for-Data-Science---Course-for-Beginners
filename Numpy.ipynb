{
 "cells": [
  {
   "cell_type": "code",
   "execution_count": 2,
   "metadata": {},
   "outputs": [
    {
     "name": "stdout",
     "output_type": "stream",
     "text": [
      "[1 2 3 4 5]\n",
      "[1. 6. 3. 4. 9.]\n"
     ]
    }
   ],
   "source": [
    "import numpy as np\n",
    "\n",
    "a = np.array([1,2,3,4,5],dtype='i')\n",
    "b = np.array([1,6,3,4,9],dtype='f')\n",
    "print(a)\n",
    "print(b)"
   ]
  },
  {
   "cell_type": "code",
   "execution_count": 3,
   "metadata": {},
   "outputs": [
    {
     "data": {
      "text/plain": [
       "numpy.ndarray"
      ]
     },
     "execution_count": 3,
     "metadata": {},
     "output_type": "execute_result"
    }
   ],
   "source": [
    "type(a)"
   ]
  },
  {
   "cell_type": "code",
   "execution_count": 4,
   "metadata": {},
   "outputs": [
    {
     "data": {
      "text/plain": [
       "15"
      ]
     },
     "execution_count": 4,
     "metadata": {},
     "output_type": "execute_result"
    }
   ],
   "source": [
    "sum(a)"
   ]
  },
  {
   "cell_type": "code",
   "execution_count": 7,
   "metadata": {},
   "outputs": [
    {
     "data": {
      "text/plain": [
       "dtype('int32')"
      ]
     },
     "execution_count": 7,
     "metadata": {},
     "output_type": "execute_result"
    }
   ],
   "source": [
    "a.dtype"
   ]
  },
  {
   "cell_type": "code",
   "execution_count": 8,
   "metadata": {},
   "outputs": [
    {
     "data": {
      "text/plain": [
       "dtype('float32')"
      ]
     },
     "execution_count": 8,
     "metadata": {},
     "output_type": "execute_result"
    }
   ],
   "source": [
    "b.dtype"
   ]
  },
  {
   "cell_type": "code",
   "execution_count": 9,
   "metadata": {},
   "outputs": [
    {
     "name": "stdout",
     "output_type": "stream",
     "text": [
      "2\n"
     ]
    }
   ],
   "source": [
    "a = np.array([[1,2,3],[4,5,6]])\n",
    "print(a.ndim)"
   ]
  },
  {
   "cell_type": "code",
   "execution_count": 10,
   "metadata": {},
   "outputs": [
    {
     "name": "stdout",
     "output_type": "stream",
     "text": [
      "3\n"
     ]
    }
   ],
   "source": [
    "b = np.array([[[1,2,3],[4,5,6]],[[1,2,3],[4,5,6]]])\n",
    "print(b.ndim)"
   ]
  },
  {
   "cell_type": "code",
   "execution_count": 12,
   "metadata": {},
   "outputs": [
    {
     "name": "stdout",
     "output_type": "stream",
     "text": [
      "2 2 3\n"
     ]
    }
   ],
   "source": [
    "print(b.shape[0],b.shape[1],b.shape[2])"
   ]
  },
  {
   "cell_type": "code",
   "execution_count": 13,
   "metadata": {},
   "outputs": [
    {
     "name": "stdout",
     "output_type": "stream",
     "text": [
      "3\n"
     ]
    }
   ],
   "source": [
    "print(b[1,0,2])"
   ]
  },
  {
   "cell_type": "code",
   "execution_count": 16,
   "metadata": {},
   "outputs": [
    {
     "data": {
      "text/plain": [
       "3"
      ]
     },
     "execution_count": 16,
     "metadata": {},
     "output_type": "execute_result"
    }
   ],
   "source": [
    "a[0,2]"
   ]
  },
  {
   "cell_type": "code",
   "execution_count": 17,
   "metadata": {},
   "outputs": [
    {
     "data": {
      "text/plain": [
       "(2, 3)"
      ]
     },
     "execution_count": 17,
     "metadata": {},
     "output_type": "execute_result"
    }
   ],
   "source": [
    "a.shape"
   ]
  },
  {
   "cell_type": "code",
   "execution_count": 20,
   "metadata": {},
   "outputs": [
    {
     "data": {
      "text/plain": [
       "2"
      ]
     },
     "execution_count": 20,
     "metadata": {},
     "output_type": "execute_result"
    }
   ],
   "source": [
    "b.shape"
   ]
  },
  {
   "cell_type": "code",
   "execution_count": 21,
   "metadata": {},
   "outputs": [
    {
     "data": {
      "text/plain": [
       "2"
      ]
     },
     "execution_count": 21,
     "metadata": {},
     "output_type": "execute_result"
    }
   ],
   "source": [
    "a.shape[0]"
   ]
  },
  {
   "cell_type": "code",
   "execution_count": 22,
   "metadata": {},
   "outputs": [
    {
     "data": {
      "text/plain": [
       "3"
      ]
     },
     "execution_count": 22,
     "metadata": {},
     "output_type": "execute_result"
    }
   ],
   "source": [
    "a.shape[1]"
   ]
  },
  {
   "cell_type": "code",
   "execution_count": 23,
   "metadata": {},
   "outputs": [
    {
     "data": {
      "text/plain": [
       "1"
      ]
     },
     "execution_count": 23,
     "metadata": {},
     "output_type": "execute_result"
    }
   ],
   "source": [
    "A = np.array([2])\n",
    "A.ndim"
   ]
  },
  {
   "cell_type": "code",
   "execution_count": 27,
   "metadata": {},
   "outputs": [
    {
     "data": {
      "text/plain": [
       "0"
      ]
     },
     "execution_count": 27,
     "metadata": {},
     "output_type": "execute_result"
    }
   ],
   "source": [
    "B = np.array(3)\n",
    "B.ndim"
   ]
  },
  {
   "cell_type": "code",
   "execution_count": 29,
   "metadata": {},
   "outputs": [
    {
     "data": {
      "text/plain": [
       "6"
      ]
     },
     "execution_count": 29,
     "metadata": {},
     "output_type": "execute_result"
    }
   ],
   "source": [
    "a.size"
   ]
  },
  {
   "cell_type": "code",
   "execution_count": 30,
   "metadata": {},
   "outputs": [
    {
     "data": {
      "text/plain": [
       "1"
      ]
     },
     "execution_count": 30,
     "metadata": {},
     "output_type": "execute_result"
    }
   ],
   "source": [
    "A.size"
   ]
  },
  {
   "cell_type": "code",
   "execution_count": 31,
   "metadata": {},
   "outputs": [
    {
     "data": {
      "text/plain": [
       "24"
      ]
     },
     "execution_count": 31,
     "metadata": {},
     "output_type": "execute_result"
    }
   ],
   "source": [
    "a.nbytes"
   ]
  },
  {
   "cell_type": "code",
   "execution_count": 32,
   "metadata": {},
   "outputs": [
    {
     "data": {
      "text/plain": [
       "4"
      ]
     },
     "execution_count": 32,
     "metadata": {},
     "output_type": "execute_result"
    }
   ],
   "source": [
    "A.nbytes"
   ]
  },
  {
   "cell_type": "code",
   "execution_count": 35,
   "metadata": {},
   "outputs": [
    {
     "data": {
      "text/plain": [
       "array([20, 22, 24, 26, 28, 30, 32, 34, 36, 38, 40, 42, 44, 46, 48, 50, 52,\n",
       "       54, 56, 58, 60, 62, 64, 66, 68, 70, 72, 74, 76, 78, 80, 82, 84, 86,\n",
       "       88, 90, 92, 94, 96, 98])"
      ]
     },
     "execution_count": 35,
     "metadata": {},
     "output_type": "execute_result"
    }
   ],
   "source": [
    "K = np.arange(20,100,2)\n",
    "K"
   ]
  },
  {
   "cell_type": "code",
   "execution_count": 37,
   "metadata": {},
   "outputs": [
    {
     "data": {
      "text/plain": [
       "array([4, 5, 2, 8, 9, 6, 0, 3, 1, 7])"
      ]
     },
     "execution_count": 37,
     "metadata": {},
     "output_type": "execute_result"
    }
   ],
   "source": [
    "K = np.random.permutation(np.arange(10))\n",
    "K"
   ]
  },
  {
   "cell_type": "code",
   "execution_count": 38,
   "metadata": {},
   "outputs": [
    {
     "data": {
      "text/plain": [
       "array([0, 4, 3, 5, 2, 1, 8, 9, 7, 6])"
      ]
     },
     "execution_count": 38,
     "metadata": {},
     "output_type": "execute_result"
    }
   ],
   "source": [
    "K = np.random.permutation(10)\n",
    "K"
   ]
  },
  {
   "cell_type": "code",
   "execution_count": 40,
   "metadata": {},
   "outputs": [
    {
     "data": {
      "text/plain": [
       "164"
      ]
     },
     "execution_count": 40,
     "metadata": {},
     "output_type": "execute_result"
    }
   ],
   "source": [
    "np.random.randint(20,300)"
   ]
  },
  {
   "cell_type": "code",
   "execution_count": 43,
   "metadata": {},
   "outputs": [
    {
     "data": {
      "text/plain": [
       "array([0.84061939, 0.70884881, 0.06263847, 0.03392721, 0.10549571,\n",
       "       0.608545  , 0.84921248, 0.93682434, 0.30281051, 0.10868439])"
      ]
     },
     "execution_count": 43,
     "metadata": {},
     "output_type": "execute_result"
    }
   ],
   "source": [
    "A = np.random.rand(10)\n",
    "A"
   ]
  },
  {
   "cell_type": "code",
   "execution_count": 45,
   "metadata": {},
   "outputs": [
    {
     "data": {
      "text/plain": [
       "(array([1., 0., 0., 1., 0., 0., 0., 1., 1., 0., 0., 0., 0., 0., 0., 0., 0.,\n",
       "        0., 0., 0., 0., 0., 0., 0., 0., 0., 0., 0., 0., 1., 0., 0., 0., 0.,\n",
       "        0., 0., 0., 0., 0., 0., 0., 0., 0., 0., 0., 0., 0., 0., 0., 0., 0.,\n",
       "        0., 0., 0., 0., 0., 0., 0., 0., 0., 0., 0., 0., 1., 0., 0., 0., 0.,\n",
       "        0., 0., 0., 0., 0., 0., 1., 0., 0., 0., 0., 0., 0., 0., 0., 0., 0.,\n",
       "        0., 0., 0., 0., 1., 1., 0., 0., 0., 0., 0., 0., 0., 0., 1.]),\n",
       " array([0.03392721, 0.04295618, 0.05198515, 0.06101413, 0.0700431 ,\n",
       "        0.07907207, 0.08810104, 0.09713001, 0.10615898, 0.11518795,\n",
       "        0.12421692, 0.1332459 , 0.14227487, 0.15130384, 0.16033281,\n",
       "        0.16936178, 0.17839075, 0.18741972, 0.19644869, 0.20547767,\n",
       "        0.21450664, 0.22353561, 0.23256458, 0.24159355, 0.25062252,\n",
       "        0.25965149, 0.26868047, 0.27770944, 0.28673841, 0.29576738,\n",
       "        0.30479635, 0.31382532, 0.32285429, 0.33188326, 0.34091224,\n",
       "        0.34994121, 0.35897018, 0.36799915, 0.37702812, 0.38605709,\n",
       "        0.39508606, 0.40411504, 0.41314401, 0.42217298, 0.43120195,\n",
       "        0.44023092, 0.44925989, 0.45828886, 0.46731783, 0.47634681,\n",
       "        0.48537578, 0.49440475, 0.50343372, 0.51246269, 0.52149166,\n",
       "        0.53052063, 0.5395496 , 0.54857858, 0.55760755, 0.56663652,\n",
       "        0.57566549, 0.58469446, 0.59372343, 0.6027524 , 0.61178138,\n",
       "        0.62081035, 0.62983932, 0.63886829, 0.64789726, 0.65692623,\n",
       "        0.6659552 , 0.67498417, 0.68401315, 0.69304212, 0.70207109,\n",
       "        0.71110006, 0.72012903, 0.729158  , 0.73818697, 0.74721595,\n",
       "        0.75624492, 0.76527389, 0.77430286, 0.78333183, 0.7923608 ,\n",
       "        0.80138977, 0.81041874, 0.81944772, 0.82847669, 0.83750566,\n",
       "        0.84653463, 0.8555636 , 0.86459257, 0.87362154, 0.88265052,\n",
       "        0.89167949, 0.90070846, 0.90973743, 0.9187664 , 0.92779537,\n",
       "        0.93682434]),\n",
       " <a list of 100 Patch objects>)"
      ]
     },
     "execution_count": 45,
     "metadata": {},
     "output_type": "execute_result"
    },
    {
     "data": {
      "image/png": "[encoded data removed]",
      "text/plain": [
       "<Figure size 432x288 with 1 Axes>"
      ]
     },
     "metadata": {
      "needs_background": "light"
     },
     "output_type": "display_data"
    }
   ],
   "source": [
    "import matplotlib.pyplot as plt\n",
    "plt.hist(A,bins=100)"
   ]
  },
  {
   "cell_type": "code",
   "execution_count": 48,
   "metadata": {},
   "outputs": [
    {
     "data": {
      "text/plain": [
       "(array([  1.,   0.,   0.,   0.,   1.,   1.,   1.,   0.,   1.,   0.,   2.,\n",
       "          1.,   2.,   1.,   0.,   1.,   0.,   1.,   2.,   6.,   4.,   2.,\n",
       "          3.,   2.,   3.,   5.,   2.,   6.,   6.,   3.,   7.,   7.,   7.,\n",
       "          4.,  10.,   7.,   8.,  15.,  12.,  16.,  14.,  13.,  20.,  21.,\n",
       "         19.,  17.,  17.,  21.,  23.,  24.,  34.,  38.,  28.,  47.,  34.,\n",
       "         34.,  43.,  31.,  55.,  51.,  47.,  65.,  65.,  58.,  84.,  73.,\n",
       "         62.,  79.,  84.,  88.,  89.,  70.,  85., 104.,  92., 114.,  96.,\n",
       "        125., 100., 102., 118., 112., 129., 134., 131., 127., 129., 114.,\n",
       "        138., 115., 141., 126., 150., 145., 153., 136., 159., 155., 172.,\n",
       "        166., 127., 146., 156., 124., 140., 141., 144., 145., 150., 139.,\n",
       "        125., 139., 144., 141., 155., 116., 116., 125., 114., 107., 102.,\n",
       "         95.,  96., 104.,  91.,  98.,  77.,  80.,  83.,  97.,  66.,  82.,\n",
       "         57.,  57.,  62.,  59.,  46.,  63.,  49.,  39.,  39.,  47.,  39.,\n",
       "         32.,  40.,  34.,  30.,  27.,  21.,  27.,  24.,  22.,  19.,  16.,\n",
       "         18.,  13.,  17.,  22.,  12.,  15.,   6.,  13.,   9.,   7.,   3.,\n",
       "         10.,   4.,   6.,   4.,   5.,   4.,   3.,   5.,   4.,   4.,   4.,\n",
       "          4.,   2.,   4.,   4.,   1.,   2.,   0.,   0.,   3.,   2.,   1.,\n",
       "          3.,   0.,   0.,   1.,   2.,   1.,   0.,   0.,   0.,   0.,   1.,\n",
       "          0.,   1.]),\n",
       " array([-3.62513224e+00, -3.58848566e+00, -3.55183908e+00, -3.51519250e+00,\n",
       "        -3.47854592e+00, -3.44189934e+00, -3.40525277e+00, -3.36860619e+00,\n",
       "        -3.33195961e+00, -3.29531303e+00, -3.25866645e+00, -3.22201988e+00,\n",
       "        -3.18537330e+00, -3.14872672e+00, -3.11208014e+00, -3.07543356e+00,\n",
       "        -3.03878698e+00, -3.00214041e+00, -2.96549383e+00, -2.92884725e+00,\n",
       "        -2.89220067e+00, -2.85555409e+00, -2.81890752e+00, -2.78226094e+00,\n",
       "        -2.74561436e+00, -2.70896778e+00, -2.67232120e+00, -2.63567463e+00,\n",
       "        -2.59902805e+00, -2.56238147e+00, -2.52573489e+00, -2.48908831e+00,\n",
       "        -2.45244173e+00, -2.41579516e+00, -2.37914858e+00, -2.34250200e+00,\n",
       "        -2.30585542e+00, -2.26920884e+00, -2.23256227e+00, -2.19591569e+00,\n",
       "        -2.15926911e+00, -2.12262253e+00, -2.08597595e+00, -2.04932938e+00,\n",
       "        -2.01268280e+00, -1.97603622e+00, -1.93938964e+00, -1.90274306e+00,\n",
       "        -1.86609648e+00, -1.82944991e+00, -1.79280333e+00, -1.75615675e+00,\n",
       "        -1.71951017e+00, -1.68286359e+00, -1.64621702e+00, -1.60957044e+00,\n",
       "        -1.57292386e+00, -1.53627728e+00, -1.49963070e+00, -1.46298413e+00,\n",
       "        -1.42633755e+00, -1.38969097e+00, -1.35304439e+00, -1.31639781e+00,\n",
       "        -1.27975123e+00, -1.24310466e+00, -1.20645808e+00, -1.16981150e+00,\n",
       "        -1.13316492e+00, -1.09651834e+00, -1.05987177e+00, -1.02322519e+00,\n",
       "        -9.86578610e-01, -9.49932032e-01, -9.13285453e-01, -8.76638875e-01,\n",
       "        -8.39992297e-01, -8.03345719e-01, -7.66699141e-01, -7.30052563e-01,\n",
       "        -6.93405985e-01, -6.56759407e-01, -6.20112828e-01, -5.83466250e-01,\n",
       "        -5.46819672e-01, -5.10173094e-01, -4.73526516e-01, -4.36879938e-01,\n",
       "        -4.00233360e-01, -3.63586782e-01, -3.26940203e-01, -2.90293625e-01,\n",
       "        -2.53647047e-01, -2.17000469e-01, -1.80353891e-01, -1.43707313e-01,\n",
       "        -1.07060735e-01, -7.04141565e-02, -3.37675784e-02,  2.87899976e-03,\n",
       "         3.95255779e-02,  7.61721560e-02,  1.12818734e-01,  1.49465312e-01,\n",
       "         1.86111890e-01,  2.22758469e-01,  2.59405047e-01,  2.96051625e-01,\n",
       "         3.32698203e-01,  3.69344781e-01,  4.05991359e-01,  4.42637937e-01,\n",
       "         4.79284515e-01,  5.15931094e-01,  5.52577672e-01,  5.89224250e-01,\n",
       "         6.25870828e-01,  6.62517406e-01,  6.99163984e-01,  7.35810562e-01,\n",
       "         7.72457140e-01,  8.09103719e-01,  8.45750297e-01,  8.82396875e-01,\n",
       "         9.19043453e-01,  9.55690031e-01,  9.92336609e-01,  1.02898319e+00,\n",
       "         1.06562977e+00,  1.10227634e+00,  1.13892292e+00,  1.17556950e+00,\n",
       "         1.21221608e+00,  1.24886266e+00,  1.28550923e+00,  1.32215581e+00,\n",
       "         1.35880239e+00,  1.39544897e+00,  1.43209555e+00,  1.46874212e+00,\n",
       "         1.50538870e+00,  1.54203528e+00,  1.57868186e+00,  1.61532844e+00,\n",
       "         1.65197502e+00,  1.68862159e+00,  1.72526817e+00,  1.76191475e+00,\n",
       "         1.79856133e+00,  1.83520791e+00,  1.87185448e+00,  1.90850106e+00,\n",
       "         1.94514764e+00,  1.98179422e+00,  2.01844080e+00,  2.05508737e+00,\n",
       "         2.09173395e+00,  2.12838053e+00,  2.16502711e+00,  2.20167369e+00,\n",
       "         2.23832027e+00,  2.27496684e+00,  2.31161342e+00,  2.34826000e+00,\n",
       "         2.38490658e+00,  2.42155316e+00,  2.45819973e+00,  2.49484631e+00,\n",
       "         2.53149289e+00,  2.56813947e+00,  2.60478605e+00,  2.64143263e+00,\n",
       "         2.67807920e+00,  2.71472578e+00,  2.75137236e+00,  2.78801894e+00,\n",
       "         2.82466552e+00,  2.86131209e+00,  2.89795867e+00,  2.93460525e+00,\n",
       "         2.97125183e+00,  3.00789841e+00,  3.04454498e+00,  3.08119156e+00,\n",
       "         3.11783814e+00,  3.15448472e+00,  3.19113130e+00,  3.22777788e+00,\n",
       "         3.26442445e+00,  3.30107103e+00,  3.33771761e+00,  3.37436419e+00,\n",
       "         3.41101077e+00,  3.44765734e+00,  3.48430392e+00,  3.52095050e+00,\n",
       "         3.55759708e+00,  3.59424366e+00,  3.63089023e+00,  3.66753681e+00,\n",
       "         3.70418339e+00]),\n",
       " <a list of 200 Patch objects>)"
      ]
     },
     "execution_count": 48,
     "metadata": {},
     "output_type": "execute_result"
    },
    {
     "data": {
      "image/png": "[encoded data removed]",
      "text/plain": [
       "<Figure size 432x288 with 1 Axes>"
      ]
     },
     "metadata": {
      "needs_background": "light"
     },
     "output_type": "display_data"
    }
   ],
   "source": [
    "B = np.random.randn(10000)\n",
    "plt.hist(B,bins=200)"
   ]
  },
  {
   "cell_type": "code",
   "execution_count": 7,
   "metadata": {},
   "outputs": [
    {
     "data": {
      "text/plain": [
       "array([[[[0.39566228, 0.47539545],\n",
       "         [0.38602018, 0.12809489],\n",
       "         [0.92844828, 0.61794017],\n",
       "         [0.91695288, 0.69083111]],\n",
       "\n",
       "        [[0.80103366, 0.04679289],\n",
       "         [0.48413179, 0.76342376],\n",
       "         [0.42595997, 0.24600606],\n",
       "         [0.27246393, 0.36453355]],\n",
       "\n",
       "        [[0.46800864, 0.87695203],\n",
       "         [0.38982465, 0.95384922],\n",
       "         [0.54219828, 0.57144966],\n",
       "         [0.91062168, 0.82498329]]],\n",
       "\n",
       "\n",
       "       [[[0.55474713, 0.65041178],\n",
       "         [0.23241078, 0.72258232],\n",
       "         [0.47952961, 0.79232984],\n",
       "         [0.80103724, 0.29701203]],\n",
       "\n",
       "        [[0.71245677, 0.71553856],\n",
       "         [0.61122831, 0.60598623],\n",
       "         [0.46556443, 0.41892316],\n",
       "         [0.65888586, 0.66319536]],\n",
       "\n",
       "        [[0.60178398, 0.0875194 ],\n",
       "         [0.76879124, 0.9917649 ],\n",
       "         [0.4904634 , 0.15847415],\n",
       "         [0.00297625, 0.65596246]]]])"
      ]
     },
     "execution_count": 7,
     "metadata": {},
     "output_type": "execute_result"
    }
   ],
   "source": [
    "C = np.random.rand(2,3,4,2) # 10:16:40 time stamp\n",
    "C"
   ]
  },
  {
   "cell_type": "code",
   "execution_count": 12,
   "metadata": {},
   "outputs": [
    {
     "name": "stdout",
     "output_type": "stream",
     "text": [
      "[[ 0  1  2  3  4  5  6  7  8  9 10 11 12 13 14 15 16 17 18 19 20 21 22 23\n",
      "  24]\n",
      " [25 26 27 28 29 30 31 32 33 34 35 36 37 38 39 40 41 42 43 44 45 46 47 48\n",
      "  49]\n",
      " [50 51 52 53 54 55 56 57 58 59 60 61 62 63 64 65 66 67 68 69 70 71 72 73\n",
      "  74]\n",
      " [75 76 77 78 79 80 81 82 83 84 85 86 87 88 89 90 91 92 93 94 95 96 97 98\n",
      "  99]]\n",
      "(4, 25)\n",
      "2\n"
     ]
    }
   ],
   "source": [
    "D = np.arange(100).reshape(4,25) #4 arrays and each has 25 numbers. So 4 X 25 matrix\n",
    "print(D)\n",
    "print(D.shape)\n",
    "print(D.ndim)"
   ]
  },
  {
   "cell_type": "code",
   "execution_count": 14,
   "metadata": {},
   "outputs": [
    {
     "name": "stdout",
     "output_type": "stream",
     "text": [
      "[[[ 0  1  2  3  4]\n",
      "  [ 5  6  7  8  9]\n",
      "  [10 11 12 13 14]\n",
      "  [15 16 17 18 19]\n",
      "  [20 21 22 23 24]]\n",
      "\n",
      " [[25 26 27 28 29]\n",
      "  [30 31 32 33 34]\n",
      "  [35 36 37 38 39]\n",
      "  [40 41 42 43 44]\n",
      "  [45 46 47 48 49]]\n",
      "\n",
      " [[50 51 52 53 54]\n",
      "  [55 56 57 58 59]\n",
      "  [60 61 62 63 64]\n",
      "  [65 66 67 68 69]\n",
      "  [70 71 72 73 74]]\n",
      "\n",
      " [[75 76 77 78 79]\n",
      "  [80 81 82 83 84]\n",
      "  [85 86 87 88 89]\n",
      "  [90 91 92 93 94]\n",
      "  [95 96 97 98 99]]]\n",
      "(4, 5, 5)\n",
      "3\n"
     ]
    }
   ],
   "source": [
    "D = np.arange(100).reshape(4,5,5) #4 arrays, each has 5 numbers and 5 sets per array. So 4 X 5 X 5 matrix\n",
    "print(D)\n",
    "print(D.shape)\n",
    "print(D.ndim)"
   ]
  },
  {
   "cell_type": "code",
   "execution_count": 18,
   "metadata": {},
   "outputs": [
    {
     "data": {
      "text/plain": [
       "array([0., 0., 0., 0., 0., 0., 0., 0., 0., 0.])"
      ]
     },
     "execution_count": 18,
     "metadata": {},
     "output_type": "execute_result"
    }
   ],
   "source": [
    "np.zeros(10)"
   ]
  },
  {
   "cell_type": "code",
   "execution_count": 21,
   "metadata": {},
   "outputs": [
    {
     "data": {
      "text/plain": [
       "array([1., 1., 1., 1., 1., 1., 1., 1., 1., 1.])"
      ]
     },
     "execution_count": 21,
     "metadata": {},
     "output_type": "execute_result"
    }
   ],
   "source": [
    "np.ones(10)"
   ]
  },
  {
   "cell_type": "code",
   "execution_count": 22,
   "metadata": {},
   "outputs": [
    {
     "ename": "AttributeError",
     "evalue": "module 'numpy.random' has no attribute 'range'",
     "output_type": "error",
     "traceback": [
      "\u001b[1;31m---------------------------------------------------------------------------\u001b[0m",
      "\u001b[1;31mAttributeError\u001b[0m                            Traceback (most recent call last)",
      "\u001b[1;32m<ipython-input-22-e9fe9a2dacf6>\u001b[0m in \u001b[0;36m<module>\u001b[1;34m\u001b[0m\n\u001b[1;32m----> 1\u001b[1;33m \u001b[0ma\u001b[0m \u001b[1;33m=\u001b[0m \u001b[0mnp\u001b[0m\u001b[1;33m.\u001b[0m\u001b[0mrandom\u001b[0m\u001b[1;33m.\u001b[0m\u001b[0mrange\u001b[0m\u001b[1;33m(\u001b[0m\u001b[1;36m10\u001b[0m\u001b[1;33m)\u001b[0m\u001b[1;33m\u001b[0m\u001b[1;33m\u001b[0m\u001b[0m\n\u001b[0m",
      "\u001b[1;31mAttributeError\u001b[0m: module 'numpy.random' has no attribute 'range'"
     ]
    }
   ],
   "source": [
    "a = np.random.range(10)"
   ]
  },
  {
   "cell_type": "code",
   "execution_count": 23,
   "metadata": {},
   "outputs": [
    {
     "data": {
      "text/plain": [
       "array([3, 4, 5, 6, 7, 8, 9])"
      ]
     },
     "execution_count": 23,
     "metadata": {},
     "output_type": "execute_result"
    }
   ],
   "source": [
    "A = np.arange(100)\n",
    "B = A[3:10]\n",
    "B"
   ]
  },
  {
   "cell_type": "code",
   "execution_count": 24,
   "metadata": {},
   "outputs": [
    {
     "name": "stdout",
     "output_type": "stream",
     "text": [
      "[-1200     4     5     6     7     8     9]\n",
      "[    0     1     2 -1200     4     5     6     7     8     9    10    11\n",
      "    12    13    14    15    16    17    18    19    20    21    22    23\n",
      "    24    25    26    27    28    29    30    31    32    33    34    35\n",
      "    36    37    38    39    40    41    42    43    44    45    46    47\n",
      "    48    49    50    51    52    53    54    55    56    57    58    59\n",
      "    60    61    62    63    64    65    66    67    68    69    70    71\n",
      "    72    73    74    75    76    77    78    79    80    81    82    83\n",
      "    84    85    86    87    88    89    90    91    92    93    94    95\n",
      "    96    97    98    99]\n"
     ]
    }
   ],
   "source": [
    "B[0] = -1200 \n",
    "print(B) #both will change\n",
    "print(A) #both will change"
   ]
  },
  {
   "cell_type": "code",
   "execution_count": 25,
   "metadata": {},
   "outputs": [
    {
     "name": "stdout",
     "output_type": "stream",
     "text": [
      "[-1200     4     5     6     7     8     9]\n",
      "[    0     1     2 -1200     4     5     6     7     8     9    10    11\n",
      "    12    13    14    15    16    17    18    19    20    21    22    23\n",
      "    24    25    26    27    28    29    30    31    32    33    34    35\n",
      "    36    37    38    39    40    41    42    43    44    45    46    47\n",
      "    48    49    50    51    52    53    54    55    56    57    58    59\n",
      "    60    61    62    63    64    65    66    67    68    69    70    71\n",
      "    72    73    74    75    76    77    78    79    80    81    82    83\n",
      "    84    85    86    87    88    89    90    91    92    93    94    95\n",
      "    96    97    98    99]\n"
     ]
    }
   ],
   "source": [
    "C = A[3:10].copy()\n",
    "print(C)\n",
    "print(A)\n"
   ]
  },
  {
   "cell_type": "code",
   "execution_count": 26,
   "metadata": {},
   "outputs": [
    {
     "name": "stdout",
     "output_type": "stream",
     "text": [
      "[-1200  2001     5     6     7     8     9]\n",
      "[    0     1     2 -1200     4     5     6     7     8     9    10    11\n",
      "    12    13    14    15    16    17    18    19    20    21    22    23\n",
      "    24    25    26    27    28    29    30    31    32    33    34    35\n",
      "    36    37    38    39    40    41    42    43    44    45    46    47\n",
      "    48    49    50    51    52    53    54    55    56    57    58    59\n",
      "    60    61    62    63    64    65    66    67    68    69    70    71\n",
      "    72    73    74    75    76    77    78    79    80    81    82    83\n",
      "    84    85    86    87    88    89    90    91    92    93    94    95\n",
      "    96    97    98    99]\n"
     ]
    }
   ],
   "source": [
    "C[1] = 2001\n",
    "print(C) # only C will change\n",
    "print(A) # A remains same\n"
   ]
  },
  {
   "cell_type": "code",
   "execution_count": 28,
   "metadata": {},
   "outputs": [
    {
     "data": {
      "text/plain": [
       "array([99, 94, 89, 84, 79, 74, 69, 64, 59, 54, 49, 44, 39, 34, 29, 24, 19,\n",
       "       14,  9,  4])"
      ]
     },
     "execution_count": 28,
     "metadata": {},
     "output_type": "execute_result"
    }
   ],
   "source": [
    "A[::-5]"
   ]
  },
  {
   "cell_type": "code",
   "execution_count": 29,
   "metadata": {},
   "outputs": [
    {
     "data": {
      "text/plain": [
       "array([0, 0, 0, 3, 0, 0, 0, 0, 0, 0, 0, 0, 0, 0, 0, 0, 0, 0, 0, 0, 0, 0,\n",
       "       0, 0, 0, 0, 0, 0, 0, 0, 0, 0, 0, 0, 0, 0, 0, 0, 0, 0, 0, 0, 0, 0,\n",
       "       0, 0, 0, 0, 0, 0, 0, 0, 0, 0, 0, 0, 0, 0, 0, 0, 0, 0, 0, 0, 0, 0,\n",
       "       0, 0, 0, 0, 0, 0, 0, 0, 0, 0, 0, 0, 0, 0, 0, 0, 0, 0, 0, 0, 0, 0,\n",
       "       0, 0, 0, 0, 0, 0, 0, 0, 0, 0, 0, 0])"
      ]
     },
     "execution_count": 29,
     "metadata": {},
     "output_type": "execute_result"
    }
   ],
   "source": [
    "B = (A==-1200)*np.arange(A.size)\n",
    "B"
   ]
  },
  {
   "cell_type": "code",
   "execution_count": 31,
   "metadata": {},
   "outputs": [
    {
     "data": {
      "text/plain": [
       "3"
      ]
     },
     "execution_count": 31,
     "metadata": {},
     "output_type": "execute_result"
    }
   ],
   "source": [
    "idx = np.argwhere(A==-1200)[0][0]\n",
    "idx"
   ]
  },
  {
   "cell_type": "code",
   "execution_count": 32,
   "metadata": {},
   "outputs": [
    {
     "data": {
      "text/plain": [
       "array([[ 6.,  7.,  9., 10.],\n",
       "       [ 1.,  2.,  6.,  8.],\n",
       "       [ 2.,  8.,  4.,  7.],\n",
       "       [ 4.,  2.,  6.,  9.],\n",
       "       [ 2.,  7.,  5.,  8.]])"
      ]
     },
     "execution_count": 32,
     "metadata": {},
     "output_type": "execute_result"
    }
   ],
   "source": [
    "A = np.round(10*np.random.rand(5,4))\n",
    "A"
   ]
  },
  {
   "cell_type": "code",
   "execution_count": 33,
   "metadata": {},
   "outputs": [
    {
     "data": {
      "text/plain": [
       "6.0"
      ]
     },
     "execution_count": 33,
     "metadata": {},
     "output_type": "execute_result"
    }
   ],
   "source": [
    "A[1,2]"
   ]
  },
  {
   "cell_type": "code",
   "execution_count": 36,
   "metadata": {},
   "outputs": [
    {
     "data": {
      "text/plain": [
       "array([[1., 2., 6., 8.],\n",
       "       [2., 8., 4., 7.],\n",
       "       [4., 2., 6., 9.],\n",
       "       [2., 7., 5., 8.]])"
      ]
     },
     "execution_count": 36,
     "metadata": {},
     "output_type": "execute_result"
    }
   ],
   "source": [
    "A[1:]"
   ]
  },
  {
   "cell_type": "code",
   "execution_count": 37,
   "metadata": {},
   "outputs": [
    {
     "data": {
      "text/plain": [
       "array([[6., 8.],\n",
       "       [4., 7.]])"
      ]
     },
     "execution_count": 37,
     "metadata": {},
     "output_type": "execute_result"
    }
   ],
   "source": [
    "A[1:3,2:4]"
   ]
  },
  {
   "cell_type": "code",
   "execution_count": 38,
   "metadata": {},
   "outputs": [
    {
     "data": {
      "text/plain": [
       "array([[ 6.,  1.,  2.,  4.,  2.],\n",
       "       [ 7.,  2.,  8.,  2.,  7.],\n",
       "       [ 9.,  6.,  4.,  6.,  5.],\n",
       "       [10.,  8.,  7.,  9.,  8.]])"
      ]
     },
     "execution_count": 38,
     "metadata": {},
     "output_type": "execute_result"
    }
   ],
   "source": [
    "A.T #transpose"
   ]
  },
  {
   "cell_type": "code",
   "execution_count": 39,
   "metadata": {},
   "outputs": [],
   "source": [
    "import numpy.linalg as la"
   ]
  },
  {
   "cell_type": "code",
   "execution_count": 40,
   "metadata": {},
   "outputs": [
    {
     "data": {
      "text/plain": [
       "array([[-0.34111946,  1.14714653,  0.26158105],\n",
       "       [-2.78931383,  0.53307176,  3.47419623],\n",
       "       [ 3.69281478, -0.92089667, -3.26275959]])"
      ]
     },
     "execution_count": 40,
     "metadata": {},
     "output_type": "execute_result"
    }
   ],
   "source": [
    "la.inv(np.random.rand(3,3))"
   ]
  },
  {
   "cell_type": "code",
   "execution_count": 41,
   "metadata": {},
   "outputs": [
    {
     "data": {
      "text/plain": [
       "array([[ 6.,  7.,  9., 10.],\n",
       "       [ 1.,  2.,  6.,  8.],\n",
       "       [ 2.,  8.,  4.,  7.],\n",
       "       [ 4.,  2.,  6.,  9.],\n",
       "       [ 2.,  7.,  5.,  8.]])"
      ]
     },
     "execution_count": 41,
     "metadata": {},
     "output_type": "execute_result"
    }
   ],
   "source": [
    "A"
   ]
  },
  {
   "cell_type": "code",
   "execution_count": 42,
   "metadata": {},
   "outputs": [
    {
     "data": {
      "text/plain": [
       "array([[ 1.,  2.,  4.,  7.],\n",
       "       [ 2.,  2.,  5.,  8.],\n",
       "       [ 2.,  7.,  6.,  8.],\n",
       "       [ 4.,  7.,  6.,  9.],\n",
       "       [ 6.,  8.,  9., 10.]])"
      ]
     },
     "execution_count": 42,
     "metadata": {},
     "output_type": "execute_result"
    }
   ],
   "source": [
    "A.sort(axis=0) #every column sorted individually \n",
    "A"
   ]
  },
  {
   "cell_type": "code",
   "execution_count": 43,
   "metadata": {},
   "outputs": [
    {
     "data": {
      "text/plain": [
       "array([[ 1.,  2.,  4.,  7.],\n",
       "       [ 2.,  2.,  5.,  8.],\n",
       "       [ 2.,  6.,  7.,  8.],\n",
       "       [ 4.,  6.,  7.,  9.],\n",
       "       [ 6.,  8.,  9., 10.]])"
      ]
     },
     "execution_count": 43,
     "metadata": {},
     "output_type": "execute_result"
    }
   ],
   "source": [
    "A.sort(axis=1) #every row sorted individually \n",
    "A"
   ]
  },
  {
   "cell_type": "code",
   "execution_count": 46,
   "metadata": {},
   "outputs": [
    {
     "data": {
      "text/plain": [
       "array([3, 5, 6])"
      ]
     },
     "execution_count": 46,
     "metadata": {},
     "output_type": "execute_result"
    }
   ],
   "source": [
    "A = np.arange(100)\n",
    "B = A[[3,5,6]] #called index array \n",
    "B"
   ]
  },
  {
   "cell_type": "code",
   "execution_count": 48,
   "metadata": {},
   "outputs": [
    {
     "data": {
      "text/plain": [
       "array([-4,  5,  6])"
      ]
     },
     "execution_count": 48,
     "metadata": {},
     "output_type": "execute_result"
    }
   ],
   "source": [
    "B[0] = -4\n",
    "B"
   ]
  },
  {
   "cell_type": "code",
   "execution_count": 49,
   "metadata": {},
   "outputs": [
    {
     "name": "stdout",
     "output_type": "stream",
     "text": [
      "[-4  5  6]\n",
      "[ 0  1  2  3  4  5  6  7  8  9 10 11 12 13 14 15 16 17 18 19 20 21 22 23\n",
      " 24 25 26 27 28 29 30 31 32 33 34 35 36 37 38 39 40 41 42 43 44 45 46 47\n",
      " 48 49 50 51 52 53 54 55 56 57 58 59 60 61 62 63 64 65 66 67 68 69 70 71\n",
      " 72 73 74 75 76 77 78 79 80 81 82 83 84 85 86 87 88 89 90 91 92 93 94 95\n",
      " 96 97 98 99]\n"
     ]
    }
   ],
   "source": [
    "print(B) # only B changes\n",
    "print(A) #A does not change"
   ]
  },
  {
   "cell_type": "code",
   "execution_count": 50,
   "metadata": {},
   "outputs": [
    {
     "data": {
      "text/plain": [
       "array([ 0,  1,  2,  3,  4,  5,  6,  7,  8,  9, 10, 11, 12, 13, 14, 15, 16,\n",
       "       17, 18, 19, 20, 21, 22, 23, 24, 25, 26, 27, 28, 29, 30, 31, 32, 33,\n",
       "       34, 35, 36, 37, 38, 39])"
      ]
     },
     "execution_count": 50,
     "metadata": {},
     "output_type": "execute_result"
    }
   ],
   "source": [
    "B = A[A<40]\n",
    "B"
   ]
  },
  {
   "cell_type": "code",
   "execution_count": 51,
   "metadata": {},
   "outputs": [
    {
     "data": {
      "text/plain": [
       "array([31, 32, 33, 34, 35, 36, 37, 38, 39])"
      ]
     },
     "execution_count": 51,
     "metadata": {},
     "output_type": "execute_result"
    }
   ],
   "source": [
    "B = A[(A<40) & (A>30)] \n",
    "B"
   ]
  },
  {
   "cell_type": "code",
   "execution_count": 52,
   "metadata": {},
   "outputs": [],
   "source": [
    "# & used in arrays. 'and' for single objects\n",
    "# | used in arrays, 'or' used for single objects\n",
    "# ~ used in arrays, 'not' used for single objects"
   ]
  },
  {
   "cell_type": "code",
   "execution_count": 54,
   "metadata": {},
   "outputs": [
    {
     "data": {
      "text/plain": [
       "array([[7., 8., 6.],\n",
       "       [7., 2., 5.]])"
      ]
     },
     "execution_count": 54,
     "metadata": {},
     "output_type": "execute_result"
    }
   ],
   "source": [
    "A = np.round(10*np.random.rand(2,3))\n",
    "A"
   ]
  },
  {
   "cell_type": "code",
   "execution_count": 56,
   "metadata": {},
   "outputs": [
    {
     "data": {
      "text/plain": [
       "array([[10., 11.,  9.],\n",
       "       [10.,  5.,  8.]])"
      ]
     },
     "execution_count": 56,
     "metadata": {},
     "output_type": "execute_result"
    }
   ],
   "source": [
    "A+3"
   ]
  },
  {
   "cell_type": "code",
   "execution_count": 57,
   "metadata": {},
   "outputs": [
    {
     "data": {
      "text/plain": [
       "array([[7., 8., 6.],\n",
       "       [8., 3., 6.]])"
      ]
     },
     "execution_count": 57,
     "metadata": {},
     "output_type": "execute_result"
    }
   ],
   "source": [
    "A+(np.arange(2).reshape(2,1))"
   ]
  },
  {
   "cell_type": "code",
   "execution_count": 58,
   "metadata": {},
   "outputs": [
    {
     "data": {
      "text/plain": [
       "array([[7., 8., 6.],\n",
       "       [7., 2., 5.]])"
      ]
     },
     "execution_count": 58,
     "metadata": {},
     "output_type": "execute_result"
    }
   ],
   "source": [
    "A"
   ]
  },
  {
   "cell_type": "code",
   "execution_count": 60,
   "metadata": {},
   "outputs": [
    {
     "data": {
      "text/plain": [
       "array([[7., 0.],\n",
       "       [7., 1.]])"
      ]
     },
     "execution_count": 60,
     "metadata": {},
     "output_type": "execute_result"
    }
   ],
   "source": [
    "B = np.round(10*np.random.rand(2,2))\n",
    "B"
   ]
  },
  {
   "cell_type": "code",
   "execution_count": 61,
   "metadata": {},
   "outputs": [],
   "source": [
    "C = np.hstack((A,B)) #basically all arrays in rows (horizontal) will combine to one array"
   ]
  },
  {
   "cell_type": "code",
   "execution_count": 62,
   "metadata": {},
   "outputs": [
    {
     "data": {
      "text/plain": [
       "array([[7., 8., 6., 7., 0.],\n",
       "       [7., 2., 5., 7., 1.]])"
      ]
     },
     "execution_count": 62,
     "metadata": {},
     "output_type": "execute_result"
    }
   ],
   "source": [
    "C"
   ]
  },
  {
   "cell_type": "code",
   "execution_count": 67,
   "metadata": {},
   "outputs": [
    {
     "data": {
      "text/plain": [
       "array([8, 7, 2, 5, 1, 9, 4, 6, 0, 3])"
      ]
     },
     "execution_count": 67,
     "metadata": {},
     "output_type": "execute_result"
    }
   ],
   "source": [
    "A = np.random.permutation(np.arange(10))\n",
    "A"
   ]
  },
  {
   "cell_type": "code",
   "execution_count": 65,
   "metadata": {},
   "outputs": [
    {
     "data": {
      "text/plain": [
       "array([0, 1, 2, 3, 4, 5, 6, 7, 8, 9])"
      ]
     },
     "execution_count": 65,
     "metadata": {},
     "output_type": "execute_result"
    }
   ],
   "source": [
    "A.sort()\n",
    "A"
   ]
  },
  {
   "cell_type": "code",
   "execution_count": 66,
   "metadata": {},
   "outputs": [
    {
     "data": {
      "text/plain": [
       "array([0, 1, 2, 3, 4, 5, 6, 7, 8, 9])"
      ]
     },
     "execution_count": 66,
     "metadata": {},
     "output_type": "execute_result"
    }
   ],
   "source": [
    "np.sort(A)"
   ]
  },
  {
   "cell_type": "code",
   "execution_count": 68,
   "metadata": {},
   "outputs": [
    {
     "data": {
      "text/plain": [
       "array([3, 0, 6, 4, 9, 1, 5, 2, 7, 8])"
      ]
     },
     "execution_count": 68,
     "metadata": {},
     "output_type": "execute_result"
    }
   ],
   "source": [
    "A[::-1]"
   ]
  },
  {
   "cell_type": "code",
   "execution_count": 69,
   "metadata": {},
   "outputs": [],
   "source": [
    "A = np.array([\"abc\", \"howare you\",\"u756\",\"13er\"])"
   ]
  },
  {
   "cell_type": "code",
   "execution_count": 70,
   "metadata": {},
   "outputs": [
    {
     "data": {
      "text/plain": [
       "array(['13er', 'abc', 'howare you', 'u756'], dtype='<U10')"
      ]
     },
     "execution_count": 70,
     "metadata": {},
     "output_type": "execute_result"
    }
   ],
   "source": [
    "A.sort()\n",
    "A"
   ]
  },
  {
   "cell_type": "code",
   "execution_count": 71,
   "metadata": {},
   "outputs": [
    {
     "name": "stdout",
     "output_type": "stream",
     "text": [
      "22.8 ms ± 2.64 ms per loop (mean ± std. dev. of 7 runs, 10 loops each)\n",
      "77.2 µs ± 3.39 µs per loop (mean ± std. dev. of 7 runs, 10000 loops each)\n"
     ]
    }
   ],
   "source": [
    "B = np.random.rand(100000)\n",
    "%timeit sum(B)\n",
    "%timeit np.sum(B)    #B.sum() #numpy is faster #avoids loops in numpy"
   ]
  },
  {
   "cell_type": "code",
   "execution_count": 72,
   "metadata": {},
   "outputs": [],
   "source": [
    "def mySum(G):\n",
    "    s = 0\n",
    "    for x in G:\n",
    "        s += x\n",
    "    return s"
   ]
  },
  {
   "cell_type": "code",
   "execution_count": 73,
   "metadata": {},
   "outputs": [
    {
     "name": "stdout",
     "output_type": "stream",
     "text": [
      "30.1 ms ± 2.13 ms per loop (mean ± std. dev. of 7 runs, 10 loops each)\n"
     ]
    }
   ],
   "source": [
    "%timeit mySum(B)"
   ]
  },
  {
   "cell_type": "code",
   "execution_count": null,
   "metadata": {},
   "outputs": [],
   "source": []
  }
 ],
 "metadata": {
  "kernelspec": {
   "display_name": "Python 3",
   "language": "python",
   "name": "python3"
  },
  "language_info": {
   "codemirror_mode": {
    "name": "ipython",
    "version": 3
   },
   "file_extension": ".py",
   "mimetype": "text/x-python",
   "name": "python",
   "nbconvert_exporter": "python",
   "pygments_lexer": "ipython3",
   "version": "3.8.3"
  }
 },
 "nbformat": 4,
 "nbformat_minor": 4
}
